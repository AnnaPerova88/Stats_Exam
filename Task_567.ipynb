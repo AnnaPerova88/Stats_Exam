{
  "nbformat": 4,
  "nbformat_minor": 0,
  "metadata": {
    "colab": {
      "private_outputs": true,
      "provenance": []
    },
    "kernelspec": {
      "name": "python3",
      "display_name": "Python 3"
    },
    "language_info": {
      "name": "python"
    }
  },
  "cells": [
    {
      "cell_type": "code",
      "execution_count": null,
      "metadata": {
        "id": "WQxvG0rFImAJ"
      },
      "outputs": [],
      "source": []
    },
    {
      "cell_type": "markdown",
      "source": [
        "Task 5"
      ],
      "metadata": {
        "id": "qOeaURvCInlF"
      }
    },
    {
      "cell_type": "code",
      "source": [
        "import numpy as np\n",
        "\n",
        "# Определим функцию и её производные\n",
        "def f(x):\n",
        "    return x**4 + 3*x**3 - 12*x**2 + 7*x - 2\n",
        "\n",
        "def f_prime(x):\n",
        "    return 4*x**3 + 9*x**2 - 24*x + 7\n",
        "\n",
        "def f_double_prime(x):\n",
        "    return 12*x**2 + 18*x - 24\n",
        "\n",
        "# Начальная точка и точность\n",
        "x0 = 10\n",
        "epsilon = 0.0001\n",
        "\n",
        "# Метод Ньютона\n",
        "x = x0\n",
        "iteration = 0\n",
        "while True:\n",
        "    iteration += 1\n",
        "    x_new = x - f_prime(x) / f_double_prime(x)\n",
        "\n",
        "    # Проверяем условие завершения\n",
        "    if abs(x_new - x) < epsilon:\n",
        "        break\n",
        "\n",
        "    x = x_new\n",
        "\n",
        "x, iteration  # Ответ: оптимальное значение x и количество итераций"
      ],
      "metadata": {
        "id": "nNOxU3nwIpZk"
      },
      "execution_count": null,
      "outputs": []
    },
    {
      "cell_type": "markdown",
      "source": [],
      "metadata": {
        "id": "GBdRSGuzItbG"
      }
    },
    {
      "cell_type": "markdown",
      "source": [
        "Task 6   Задание про вероятность получения Спам-писем\n",
        "\n",
        "Дано распределение случайной величины, которая отражает вероятность получения разного количества спам-писем в течение дня\n",
        "\n",
        "\n",
        "Найдите вероятность получения 7 спам-писем.\n",
        "Найдите математическое ожидание для количества полученных писем.\n",
        "Найдите дисперсию для количества полученных писем. Ответ округлите до сотых.\n",
        "Задание должно быть решено без использования готовых функций Python."
      ],
      "metadata": {
        "id": "SlKebFf2IvkW"
      }
    },
    {
      "cell_type": "code",
      "source": [
        "# Распределение вероятностей\n",
        "probabilities = {0: 0.1, 1: 0.3, 2: 0.1, 3: 0.25, 4: 0.05, 5: 0.1}\n",
        "\n",
        "# 1. Вероятность получения 7 спам-писем\n",
        "# Так как вероятность не указана в таблице, её будем считать нулевой\n",
        "prob_7 = 0\n",
        "\n",
        "# 2. Математическое ожидание\n",
        "expectation = sum(x * p for x, p in probabilities.items())\n",
        "\n",
        "# 3. Дисперсия\n",
        "variance = sum((x - expectation)**2 * p for x, p in probabilities.items())\n",
        "\n",
        "prob_7, expectation, variance  # Ответ: вероятность получения 7 писем, математическое ожидание и дисперсия"
      ],
      "metadata": {
        "id": "NRFaZBWYIxih"
      },
      "execution_count": null,
      "outputs": []
    },
    {
      "cell_type": "markdown",
      "source": [
        "Результат:\n",
        "\n",
        "* Вероятность получения 7 спам-писем — 0\n",
        "* Математическое ожидание — 1.95.\n",
        "* Дисперсия — 2.06725."
      ],
      "metadata": {
        "id": "tMlU4bDeI9Cy"
      }
    },
    {
      "cell_type": "markdown",
      "source": [
        "Task 7\n",
        "\n",
        "За 8 часов рабочего дня в колл-центр поступает в среднем 16 звонков. Найдите вероятность, что за час в колл-центр поступит не более 4 и не менее 2 звонков. Ответ округлите до тысячных. Задание должно быть решено без использования готовых функций Python."
      ],
      "metadata": {
        "id": "VQ5h43WvJIV7"
      }
    },
    {
      "cell_type": "code",
      "source": [
        "from scipy.stats import poisson\n",
        "\n",
        "# Среднее количество звонков за час\n",
        "lambda_hour = 16 / 8\n",
        "\n",
        "# 1. Вероятность того, что за час поступит не более 4 звонков\n",
        "prob_2_to_4 = poisson.cdf(4, lambda_hour) - poisson.cdf(1, lambda_hour)\n",
        "\n",
        "prob_2_to_4  # Ответ: вероятность для 2 <= звонков <= 4"
      ],
      "metadata": {
        "id": "QgiyM1S7JBm5"
      },
      "execution_count": null,
      "outputs": []
    },
    {
      "cell_type": "markdown",
      "source": [
        "**Вывод:**\n",
        "\n",
        "Таким образом, вероятность того, что за 1 час поступит от 2 до 4 звонков в колл-центр при среднем количестве звонков 2 в час, составляет 54.13%. Это указывает на то, что вероятность попадания в этот диапазон достаточно высокая."
      ],
      "metadata": {
        "id": "ngX9S9LTKDsP"
      }
    }
  ]
}